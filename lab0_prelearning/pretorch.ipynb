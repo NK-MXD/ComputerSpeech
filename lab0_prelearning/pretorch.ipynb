{
 "cells": [
  {
   "cell_type": "code",
   "execution_count": 1,
   "metadata": {},
   "outputs": [
    {
     "name": "stdout",
     "output_type": "stream",
     "text": [
      "tensor([[ 8., 10., 12.],\n",
      "        [14., 16., 18.]])\n"
     ]
    }
   ],
   "source": [
    "import torch\n",
    "\n",
    "# 定义一个计算图\n",
    "x = torch.tensor([[1, 2, 3], [4, 5, 6]], dtype=torch.float)\n",
    "y = torch.tensor([[7, 8, 9], [10, 11, 12]], dtype=torch.float)\n",
    "z = x + y\n",
    "\n",
    "# 执行计算图\n",
    "print(z)\n"
   ]
  },
  {
   "cell_type": "code",
   "execution_count": 4,
   "metadata": {},
   "outputs": [
    {
     "name": "stdout",
     "output_type": "stream",
     "text": [
      "tensor([[ 8., 10., 12.],\n",
      "        [14., 16., 18.]])\n"
     ]
    }
   ],
   "source": [
    "import torch\n",
    "\n",
    "# 定义一个计算图及将数据移动到GPU上\n",
    "device = torch.device('cuda' if torch.cuda.is_available() else 'cpu')\n",
    "x = torch.tensor([[1, 2, 3], [4, 5, 6]], dtype=torch.float).to(device)\n",
    "y = torch.tensor([[7, 8, 9], [10, 11, 12]], dtype=torch.float).to(device)\n",
    "z = x + y\n",
    "\n",
    "# 执行计算图\n",
    "print(z)\n"
   ]
  }
 ],
 "metadata": {
  "kernelspec": {
   "display_name": "base",
   "language": "python",
   "name": "python3"
  },
  "language_info": {
   "codemirror_mode": {
    "name": "ipython",
    "version": 3
   },
   "file_extension": ".py",
   "mimetype": "text/x-python",
   "name": "python",
   "nbconvert_exporter": "python",
   "pygments_lexer": "ipython3",
   "version": "3.8.8"
  },
  "orig_nbformat": 4
 },
 "nbformat": 4,
 "nbformat_minor": 2
}
