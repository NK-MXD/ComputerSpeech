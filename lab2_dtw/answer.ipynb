{
 "cells": [
  {
   "cell_type": "code",
   "execution_count": 1,
   "metadata": {},
   "outputs": [],
   "source": [
    "import numpy\n",
    "import librosa\n",
    "from dtw.basic_operator import *"
   ]
  },
  {
   "cell_type": "code",
   "execution_count": 3,
   "metadata": {},
   "outputs": [],
   "source": [
    "yes1 = \"dtw/yes1.wav\"\n",
    "no2  =  \"dtw/no2.wav\"\n",
    "yes3 =  \"dtw/yes3.wav\""
   ]
  },
  {
   "cell_type": "code",
   "execution_count": 4,
   "metadata": {},
   "outputs": [],
   "source": [
    "def mfcc(path):\n",
    "    data,fs=librosa.load(path)\n",
    "    # print(data)\n",
    "    # print(data.shape)\n",
    "    # print(fs)\n",
    "    step1   =   pre_emphasis(data) \n",
    "    # print(step1)\n",
    "    # print(step1.shape)\n",
    "    step2   =   framing(step1,fs) \n",
    "    # print(step2)\n",
    "    # print(step2.shape)\n",
    "    step3   =   add_window(step2,fs)\n",
    "    # print(step3)\n",
    "    # print(step3.shape)\n",
    "    step4   =   stft(step3) \n",
    "    # print(step4)\n",
    "    # print(step4.shape)\n",
    "    step5   =   mel_filter(step4, fs) \n",
    "    # print(step5)\n",
    "    # print(step5.shape)\n",
    "    fbank   =   log_pow(step5) \n",
    "    # print(fbank)\n",
    "    # print(fbank.shape)\n",
    "    mfcc  = discrete_cosine_transform(fbank)\n",
    "    return mfcc\n",
    "    # print(mfcc)\n",
    "    # print(mfcc.shape)\n"
   ]
  },
  {
   "cell_type": "code",
   "execution_count": 5,
   "metadata": {},
   "outputs": [],
   "source": [
    "\n",
    "def fbank(path):\n",
    "    data,fs=librosa.load(path)\n",
    "    # print(data)\n",
    "    # print(data.shape)\n",
    "    # print(fs)\n",
    "    step1   =   pre_emphasis(data) \n",
    "    # print(step1)\n",
    "    # print(step1.shape)\n",
    "    step2   =   framing(step1,fs) \n",
    "    # print(step2)\n",
    "    # print(step2.shape)\n",
    "    step3   =   add_window(step2,fs)\n",
    "    # print(step3)\n",
    "    # print(step3.shape)\n",
    "    step4   =   stft(step3) \n",
    "    # print(step4)\n",
    "    # print(step4.shape)\n",
    "    step5   =   mel_filter(step4, fs) \n",
    "    # print(step5)\n",
    "    # print(step5.shape)\n",
    "    fbank   =   log_pow(step5) \n",
    "    # print(fbank)\n",
    "    # print(fbank.shape)\n",
    "    \n",
    "    return fbank\n",
    "    # print(mfcc)\n",
    "    # print(mfcc.shape)"
   ]
  },
  {
   "cell_type": "code",
   "execution_count": 10,
   "metadata": {},
   "outputs": [],
   "source": [
    "def DTWDistance(s1, s2):\n",
    "    DTW={}\n",
    "    len1=s1.shape[0]\n",
    "    len2=s2.shape[0]\n",
    "    dist = np.zeros((len1,len2))\n",
    "  \n",
    "    for i in range(len1):\n",
    "        for j in range(len2):\n",
    "            dist[i][j]=(sum((s1[i][:]-s2[j][:])*(s1[i][:]-s2[j][:]))) # 这时一个二维矩阵\n",
    "\n",
    " \n",
    "    for i in range(len1):\n",
    "        DTW[(i, -1)] = float('inf')\n",
    "    for i in range(len2):\n",
    "        DTW[(-1, i)] = float('inf')\n",
    "    DTW[(-1, -1)] = 0\n",
    " \n",
    "    for i in range(len1):\n",
    "        for j in range(len2):\n",
    "            # TODO1\n",
    "            # 理解dtw算法，此处写入递推公式\n",
    "            # 计算二维矩阵之间的距离\n",
    "            distance = dist[i][j]\n",
    "            DTW[(i, j)] = distance + min(DTW[(i-1, j)],DTW[(i, j-1)], DTW[(i-1, j-1)])\n",
    "\n",
    "    return np.sqrt(DTW[len1-1, len2-1])"
   ]
  },
  {
   "cell_type": "code",
   "execution_count": 7,
   "metadata": {},
   "outputs": [],
   "source": [
    "# TODO2\n",
    "# 导入wav文件，计算mfcc，用mfcc计算两个wav文件的dtw距离\n",
    "yes1_signal, yes1_sample_rate = librosa.load(yes1)\n",
    "yes3_signal, yes3_sample_rate = librosa.load(yes3)"
   ]
  },
  {
   "cell_type": "code",
   "execution_count": 8,
   "metadata": {},
   "outputs": [],
   "source": [
    "# 计算mfcc\n",
    "yes1_mfcc = mfcc(yes1)\n",
    "yes3_mfcc = mfcc(yes3)"
   ]
  },
  {
   "cell_type": "code",
   "execution_count": 12,
   "metadata": {},
   "outputs": [
    {
     "data": {
      "text/plain": [
       "1010.1938036100519"
      ]
     },
     "execution_count": 12,
     "metadata": {},
     "output_type": "execute_result"
    }
   ],
   "source": [
    "# 计算dtw距离\n",
    "dtw = DTWDistance(yes1_mfcc, yes3_mfcc)\n",
    "dtw"
   ]
  },
  {
   "cell_type": "code",
   "execution_count": null,
   "metadata": {},
   "outputs": [],
   "source": [
    "# TODO3\n",
    "# 将yes1和yes3两个音频，每一帧之间的对应关系用图表的形式画出来\n",
    "# yes1作为x轴，yes3作为y轴\n",
    "# 提示：在动态规划算法之中，保存算入最终dtw距离的两帧的索引index1和index2，以index1为x轴，index2为y轴画图\n",
    "# 注: 需要记录对应的动态规划算法的路径, index1和index2"
   ]
  }
 ],
 "metadata": {
  "kernelspec": {
   "display_name": "base",
   "language": "python",
   "name": "python3"
  },
  "language_info": {
   "codemirror_mode": {
    "name": "ipython",
    "version": 3
   },
   "file_extension": ".py",
   "mimetype": "text/x-python",
   "name": "python",
   "nbconvert_exporter": "python",
   "pygments_lexer": "ipython3",
   "version": "3.8.8"
  },
  "orig_nbformat": 4
 },
 "nbformat": 4,
 "nbformat_minor": 2
}
